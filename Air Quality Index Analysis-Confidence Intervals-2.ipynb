{
 "cells": [
  {
   "cell_type": "code",
   "execution_count": 18,
   "id": "b750c91b",
   "metadata": {},
   "outputs": [],
   "source": [
    "import pandas as pd\n",
    "import numpy as np\n",
    "from scipy import stats"
   ]
  },
  {
   "cell_type": "code",
   "execution_count": 19,
   "id": "31336b62",
   "metadata": {},
   "outputs": [],
   "source": [
    "df=pd.read_csv('c4_epa_air_quality.csv')"
   ]
  },
  {
   "cell_type": "markdown",
   "id": "218476e4",
   "metadata": {},
   "source": [
    "This is an air quality index dataset Source-Google Advanced Data Analytics Certification Modified Dataset"
   ]
  },
  {
   "cell_type": "code",
   "execution_count": 20,
   "id": "a0d076e4",
   "metadata": {},
   "outputs": [
    {
     "data": {
      "text/html": [
       "<div>\n",
       "<style scoped>\n",
       "    .dataframe tbody tr th:only-of-type {\n",
       "        vertical-align: middle;\n",
       "    }\n",
       "\n",
       "    .dataframe tbody tr th {\n",
       "        vertical-align: top;\n",
       "    }\n",
       "\n",
       "    .dataframe thead th {\n",
       "        text-align: right;\n",
       "    }\n",
       "</style>\n",
       "<table border=\"1\" class=\"dataframe\">\n",
       "  <thead>\n",
       "    <tr style=\"text-align: right;\">\n",
       "      <th></th>\n",
       "      <th>Unnamed: 0</th>\n",
       "      <th>date_local</th>\n",
       "      <th>state_name</th>\n",
       "      <th>county_name</th>\n",
       "      <th>city_name</th>\n",
       "      <th>local_site_name</th>\n",
       "      <th>parameter_name</th>\n",
       "      <th>units_of_measure</th>\n",
       "      <th>arithmetic_mean</th>\n",
       "      <th>aqi</th>\n",
       "    </tr>\n",
       "  </thead>\n",
       "  <tbody>\n",
       "    <tr>\n",
       "      <th>0</th>\n",
       "      <td>0</td>\n",
       "      <td>2018-01-01</td>\n",
       "      <td>Arizona</td>\n",
       "      <td>Maricopa</td>\n",
       "      <td>Buckeye</td>\n",
       "      <td>BUCKEYE</td>\n",
       "      <td>Carbon monoxide</td>\n",
       "      <td>Parts per million</td>\n",
       "      <td>0.473684</td>\n",
       "      <td>7</td>\n",
       "    </tr>\n",
       "    <tr>\n",
       "      <th>1</th>\n",
       "      <td>1</td>\n",
       "      <td>2018-01-01</td>\n",
       "      <td>Ohio</td>\n",
       "      <td>Belmont</td>\n",
       "      <td>Shadyside</td>\n",
       "      <td>Shadyside</td>\n",
       "      <td>Carbon monoxide</td>\n",
       "      <td>Parts per million</td>\n",
       "      <td>0.263158</td>\n",
       "      <td>5</td>\n",
       "    </tr>\n",
       "    <tr>\n",
       "      <th>2</th>\n",
       "      <td>2</td>\n",
       "      <td>2018-01-01</td>\n",
       "      <td>Wyoming</td>\n",
       "      <td>Teton</td>\n",
       "      <td>Not in a city</td>\n",
       "      <td>Yellowstone National Park - Old Faithful Snow ...</td>\n",
       "      <td>Carbon monoxide</td>\n",
       "      <td>Parts per million</td>\n",
       "      <td>0.111111</td>\n",
       "      <td>2</td>\n",
       "    </tr>\n",
       "    <tr>\n",
       "      <th>3</th>\n",
       "      <td>3</td>\n",
       "      <td>2018-01-01</td>\n",
       "      <td>Pennsylvania</td>\n",
       "      <td>Philadelphia</td>\n",
       "      <td>Philadelphia</td>\n",
       "      <td>North East Waste (NEW)</td>\n",
       "      <td>Carbon monoxide</td>\n",
       "      <td>Parts per million</td>\n",
       "      <td>0.300000</td>\n",
       "      <td>3</td>\n",
       "    </tr>\n",
       "    <tr>\n",
       "      <th>4</th>\n",
       "      <td>4</td>\n",
       "      <td>2018-01-01</td>\n",
       "      <td>Iowa</td>\n",
       "      <td>Polk</td>\n",
       "      <td>Des Moines</td>\n",
       "      <td>CARPENTER</td>\n",
       "      <td>Carbon monoxide</td>\n",
       "      <td>Parts per million</td>\n",
       "      <td>0.215789</td>\n",
       "      <td>3</td>\n",
       "    </tr>\n",
       "  </tbody>\n",
       "</table>\n",
       "</div>"
      ],
      "text/plain": [
       "   Unnamed: 0  date_local    state_name   county_name      city_name  \\\n",
       "0           0  2018-01-01       Arizona      Maricopa        Buckeye   \n",
       "1           1  2018-01-01          Ohio       Belmont      Shadyside   \n",
       "2           2  2018-01-01       Wyoming         Teton  Not in a city   \n",
       "3           3  2018-01-01  Pennsylvania  Philadelphia   Philadelphia   \n",
       "4           4  2018-01-01          Iowa          Polk     Des Moines   \n",
       "\n",
       "                                     local_site_name   parameter_name  \\\n",
       "0                                            BUCKEYE  Carbon monoxide   \n",
       "1                                          Shadyside  Carbon monoxide   \n",
       "2  Yellowstone National Park - Old Faithful Snow ...  Carbon monoxide   \n",
       "3                             North East Waste (NEW)  Carbon monoxide   \n",
       "4                                          CARPENTER  Carbon monoxide   \n",
       "\n",
       "    units_of_measure  arithmetic_mean  aqi  \n",
       "0  Parts per million         0.473684    7  \n",
       "1  Parts per million         0.263158    5  \n",
       "2  Parts per million         0.111111    2  \n",
       "3  Parts per million         0.300000    3  \n",
       "4  Parts per million         0.215789    3  "
      ]
     },
     "execution_count": 20,
     "metadata": {},
     "output_type": "execute_result"
    }
   ],
   "source": [
    "df.head()"
   ]
  },
  {
   "cell_type": "code",
   "execution_count": 21,
   "id": "984ca7c0",
   "metadata": {},
   "outputs": [],
   "source": [
    "sample_data=df.sample(n=50,replace=False)"
   ]
  },
  {
   "cell_type": "code",
   "execution_count": 22,
   "id": "f841ce98",
   "metadata": {},
   "outputs": [
    {
     "data": {
      "text/html": [
       "<div>\n",
       "<style scoped>\n",
       "    .dataframe tbody tr th:only-of-type {\n",
       "        vertical-align: middle;\n",
       "    }\n",
       "\n",
       "    .dataframe tbody tr th {\n",
       "        vertical-align: top;\n",
       "    }\n",
       "\n",
       "    .dataframe thead th {\n",
       "        text-align: right;\n",
       "    }\n",
       "</style>\n",
       "<table border=\"1\" class=\"dataframe\">\n",
       "  <thead>\n",
       "    <tr style=\"text-align: right;\">\n",
       "      <th></th>\n",
       "      <th>Unnamed: 0</th>\n",
       "      <th>date_local</th>\n",
       "      <th>state_name</th>\n",
       "      <th>county_name</th>\n",
       "      <th>city_name</th>\n",
       "      <th>local_site_name</th>\n",
       "      <th>parameter_name</th>\n",
       "      <th>units_of_measure</th>\n",
       "      <th>arithmetic_mean</th>\n",
       "      <th>aqi</th>\n",
       "    </tr>\n",
       "  </thead>\n",
       "  <tbody>\n",
       "    <tr>\n",
       "      <th>119</th>\n",
       "      <td>119</td>\n",
       "      <td>2018-01-01</td>\n",
       "      <td>California</td>\n",
       "      <td>Los Angeles</td>\n",
       "      <td>Reseda</td>\n",
       "      <td>Reseda</td>\n",
       "      <td>Carbon monoxide</td>\n",
       "      <td>Parts per million</td>\n",
       "      <td>1.015789</td>\n",
       "      <td>19</td>\n",
       "    </tr>\n",
       "    <tr>\n",
       "      <th>186</th>\n",
       "      <td>186</td>\n",
       "      <td>2018-01-01</td>\n",
       "      <td>Arkansas</td>\n",
       "      <td>Pulaski</td>\n",
       "      <td>North Little Rock</td>\n",
       "      <td>PARR</td>\n",
       "      <td>Carbon monoxide</td>\n",
       "      <td>Parts per million</td>\n",
       "      <td>0.300000</td>\n",
       "      <td>3</td>\n",
       "    </tr>\n",
       "    <tr>\n",
       "      <th>60</th>\n",
       "      <td>60</td>\n",
       "      <td>2018-01-01</td>\n",
       "      <td>Iowa</td>\n",
       "      <td>Scott</td>\n",
       "      <td>Davenport</td>\n",
       "      <td>DAVENPORT, JEFFERSON SCH.</td>\n",
       "      <td>Carbon monoxide</td>\n",
       "      <td>Parts per million</td>\n",
       "      <td>0.200000</td>\n",
       "      <td>2</td>\n",
       "    </tr>\n",
       "    <tr>\n",
       "      <th>219</th>\n",
       "      <td>219</td>\n",
       "      <td>2018-01-01</td>\n",
       "      <td>Indiana</td>\n",
       "      <td>Marion</td>\n",
       "      <td>Indianapolis (Remainder)</td>\n",
       "      <td>Indpls.- I 70</td>\n",
       "      <td>Carbon monoxide</td>\n",
       "      <td>Parts per million</td>\n",
       "      <td>0.231579</td>\n",
       "      <td>3</td>\n",
       "    </tr>\n",
       "    <tr>\n",
       "      <th>258</th>\n",
       "      <td>258</td>\n",
       "      <td>2018-01-01</td>\n",
       "      <td>Nebraska</td>\n",
       "      <td>Douglas</td>\n",
       "      <td>Omaha</td>\n",
       "      <td>NaN</td>\n",
       "      <td>Carbon monoxide</td>\n",
       "      <td>Parts per million</td>\n",
       "      <td>0.421053</td>\n",
       "      <td>9</td>\n",
       "    </tr>\n",
       "  </tbody>\n",
       "</table>\n",
       "</div>"
      ],
      "text/plain": [
       "     Unnamed: 0  date_local  state_name  county_name  \\\n",
       "119         119  2018-01-01  California  Los Angeles   \n",
       "186         186  2018-01-01    Arkansas      Pulaski   \n",
       "60           60  2018-01-01        Iowa        Scott   \n",
       "219         219  2018-01-01     Indiana       Marion   \n",
       "258         258  2018-01-01    Nebraska      Douglas   \n",
       "\n",
       "                    city_name            local_site_name   parameter_name  \\\n",
       "119                    Reseda                     Reseda  Carbon monoxide   \n",
       "186         North Little Rock                       PARR  Carbon monoxide   \n",
       "60                  Davenport  DAVENPORT, JEFFERSON SCH.  Carbon monoxide   \n",
       "219  Indianapolis (Remainder)              Indpls.- I 70  Carbon monoxide   \n",
       "258                     Omaha                        NaN  Carbon monoxide   \n",
       "\n",
       "      units_of_measure  arithmetic_mean  aqi  \n",
       "119  Parts per million         1.015789   19  \n",
       "186  Parts per million         0.300000    3  \n",
       "60   Parts per million         0.200000    2  \n",
       "219  Parts per million         0.231579    3  \n",
       "258  Parts per million         0.421053    9  "
      ]
     },
     "execution_count": 22,
     "metadata": {},
     "output_type": "execute_result"
    }
   ],
   "source": [
    "sample_data.head()"
   ]
  },
  {
   "cell_type": "code",
   "execution_count": 23,
   "id": "7cd68f08",
   "metadata": {},
   "outputs": [
    {
     "data": {
      "text/plain": [
       "5.82"
      ]
     },
     "execution_count": 23,
     "metadata": {},
     "output_type": "execute_result"
    }
   ],
   "source": [
    "mean=sample_data.aqi.mean()\n",
    "mean"
   ]
  },
  {
   "cell_type": "markdown",
   "id": "5eca1365",
   "metadata": {},
   "source": [
    "How succusful is the evaluation can be told to the stakeholder in form of confidence intervals which accounts for uncertanity due to margin of error among others"
   ]
  },
  {
   "cell_type": "markdown",
   "id": "e838d81c",
   "metadata": {},
   "source": [
    "confidencr levels and their respective z scores used for calculation\n",
    "\n",
    "  Confidence Level   Z score\n",
    "  \n",
    "   90                              1.64 \n",
    "   \n",
    "   95                              1.96\n",
    "   \n",
    "   99                             2.57"
   ]
  },
  {
   "cell_type": "markdown",
   "id": "dc167b57",
   "metadata": {},
   "source": [
    "We have selected a confidence level of 95 for this analysis"
   ]
  },
  {
   "cell_type": "code",
   "execution_count": 24,
   "id": "062312c3",
   "metadata": {},
   "outputs": [],
   "source": [
    "standard_deviation=sample_data.aqi.std()"
   ]
  },
  {
   "cell_type": "code",
   "execution_count": 25,
   "id": "ad5e6831",
   "metadata": {},
   "outputs": [],
   "source": [
    "standard_error=standard_deviation/np.sqrt(len(sample_data))"
   ]
  },
  {
   "cell_type": "code",
   "execution_count": 26,
   "id": "535b4194",
   "metadata": {},
   "outputs": [],
   "source": [
    "margin_of_error= 1.96*standard_error\n",
    "#margin of error= Zscore*standard_error"
   ]
  },
  {
   "cell_type": "code",
   "execution_count": 27,
   "id": "762cd9ba",
   "metadata": {},
   "outputs": [],
   "source": [
    "Confidence_Interval=stats.norm.interval(alpha=0.95,loc=mean,scale=margin_of_error)\n",
    "# alpha is leve of confidence\n",
    "#loc is sample mean\n",
    "#scale is margin of error\n",
    "#Confidence Interval[mean-margin_of_error,mean+margin_of_error]"
   ]
  },
  {
   "cell_type": "code",
   "execution_count": 28,
   "id": "8bca97a3",
   "metadata": {},
   "outputs": [
    {
     "data": {
      "text/plain": [
       "(3.2025770032915313, 8.43742299670847)"
      ]
     },
     "execution_count": 28,
     "metadata": {},
     "output_type": "execute_result"
    }
   ],
   "source": [
    "Confidence_Interval"
   ]
  },
  {
   "cell_type": "markdown",
   "id": "75b12a24",
   "metadata": {},
   "source": [
    "The AQI across the 600+ districts can be [5.7328284723052185, 6.587171527694782] with a confidence level of 95 and the values of AQI below 100 is considered to be satisfactory so government can do futher invetidation of the AQI and how to keep is consistent or make it better"
   ]
  },
  {
   "cell_type": "markdown",
   "id": "04d8adf5",
   "metadata": {},
   "source": [
    "for smaller datasets withs ample size below 30 we use t distribution"
   ]
  },
  {
   "cell_type": "code",
   "execution_count": null,
   "id": "0a0a4f24",
   "metadata": {},
   "outputs": [],
   "source": []
  }
 ],
 "metadata": {
  "kernelspec": {
   "display_name": "Python 3 (ipykernel)",
   "language": "python",
   "name": "python3"
  },
  "language_info": {
   "codemirror_mode": {
    "name": "ipython",
    "version": 3
   },
   "file_extension": ".py",
   "mimetype": "text/x-python",
   "name": "python",
   "nbconvert_exporter": "python",
   "pygments_lexer": "ipython3",
   "version": "3.9.7"
  }
 },
 "nbformat": 4,
 "nbformat_minor": 5
}
