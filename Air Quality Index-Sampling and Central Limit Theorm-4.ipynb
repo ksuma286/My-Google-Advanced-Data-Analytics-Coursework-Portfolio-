{
 "cells": [
  {
   "cell_type": "code",
   "execution_count": 89,
   "id": "34a16f7d",
   "metadata": {},
   "outputs": [],
   "source": [
    "import pandas as pd"
   ]
  },
  {
   "cell_type": "code",
   "execution_count": 90,
   "id": "d834f748",
   "metadata": {},
   "outputs": [],
   "source": [
    "df=pd.read_csv('c4_epa_air_quality.csv')"
   ]
  },
  {
   "cell_type": "markdown",
   "id": "d2c8a9d3",
   "metadata": {},
   "source": [
    "This is an air quality index dataset Source-Google Advanced Data Analytics Certification Modified Dataset"
   ]
  },
  {
   "cell_type": "code",
   "execution_count": 91,
   "id": "d9927d34",
   "metadata": {},
   "outputs": [
    {
     "data": {
      "text/html": [
       "<div>\n",
       "<style scoped>\n",
       "    .dataframe tbody tr th:only-of-type {\n",
       "        vertical-align: middle;\n",
       "    }\n",
       "\n",
       "    .dataframe tbody tr th {\n",
       "        vertical-align: top;\n",
       "    }\n",
       "\n",
       "    .dataframe thead th {\n",
       "        text-align: right;\n",
       "    }\n",
       "</style>\n",
       "<table border=\"1\" class=\"dataframe\">\n",
       "  <thead>\n",
       "    <tr style=\"text-align: right;\">\n",
       "      <th></th>\n",
       "      <th>Unnamed: 0</th>\n",
       "      <th>date_local</th>\n",
       "      <th>state_name</th>\n",
       "      <th>county_name</th>\n",
       "      <th>city_name</th>\n",
       "      <th>local_site_name</th>\n",
       "      <th>parameter_name</th>\n",
       "      <th>units_of_measure</th>\n",
       "      <th>arithmetic_mean</th>\n",
       "      <th>aqi</th>\n",
       "    </tr>\n",
       "  </thead>\n",
       "  <tbody>\n",
       "    <tr>\n",
       "      <th>0</th>\n",
       "      <td>0</td>\n",
       "      <td>2018-01-01</td>\n",
       "      <td>Arizona</td>\n",
       "      <td>Maricopa</td>\n",
       "      <td>Buckeye</td>\n",
       "      <td>BUCKEYE</td>\n",
       "      <td>Carbon monoxide</td>\n",
       "      <td>Parts per million</td>\n",
       "      <td>0.473684</td>\n",
       "      <td>7</td>\n",
       "    </tr>\n",
       "    <tr>\n",
       "      <th>1</th>\n",
       "      <td>1</td>\n",
       "      <td>2018-01-01</td>\n",
       "      <td>Ohio</td>\n",
       "      <td>Belmont</td>\n",
       "      <td>Shadyside</td>\n",
       "      <td>Shadyside</td>\n",
       "      <td>Carbon monoxide</td>\n",
       "      <td>Parts per million</td>\n",
       "      <td>0.263158</td>\n",
       "      <td>5</td>\n",
       "    </tr>\n",
       "    <tr>\n",
       "      <th>2</th>\n",
       "      <td>2</td>\n",
       "      <td>2018-01-01</td>\n",
       "      <td>Wyoming</td>\n",
       "      <td>Teton</td>\n",
       "      <td>Not in a city</td>\n",
       "      <td>Yellowstone National Park - Old Faithful Snow ...</td>\n",
       "      <td>Carbon monoxide</td>\n",
       "      <td>Parts per million</td>\n",
       "      <td>0.111111</td>\n",
       "      <td>2</td>\n",
       "    </tr>\n",
       "    <tr>\n",
       "      <th>3</th>\n",
       "      <td>3</td>\n",
       "      <td>2018-01-01</td>\n",
       "      <td>Pennsylvania</td>\n",
       "      <td>Philadelphia</td>\n",
       "      <td>Philadelphia</td>\n",
       "      <td>North East Waste (NEW)</td>\n",
       "      <td>Carbon monoxide</td>\n",
       "      <td>Parts per million</td>\n",
       "      <td>0.300000</td>\n",
       "      <td>3</td>\n",
       "    </tr>\n",
       "    <tr>\n",
       "      <th>4</th>\n",
       "      <td>4</td>\n",
       "      <td>2018-01-01</td>\n",
       "      <td>Iowa</td>\n",
       "      <td>Polk</td>\n",
       "      <td>Des Moines</td>\n",
       "      <td>CARPENTER</td>\n",
       "      <td>Carbon monoxide</td>\n",
       "      <td>Parts per million</td>\n",
       "      <td>0.215789</td>\n",
       "      <td>3</td>\n",
       "    </tr>\n",
       "  </tbody>\n",
       "</table>\n",
       "</div>"
      ],
      "text/plain": [
       "   Unnamed: 0  date_local    state_name   county_name      city_name  \\\n",
       "0           0  2018-01-01       Arizona      Maricopa        Buckeye   \n",
       "1           1  2018-01-01          Ohio       Belmont      Shadyside   \n",
       "2           2  2018-01-01       Wyoming         Teton  Not in a city   \n",
       "3           3  2018-01-01  Pennsylvania  Philadelphia   Philadelphia   \n",
       "4           4  2018-01-01          Iowa          Polk     Des Moines   \n",
       "\n",
       "                                     local_site_name   parameter_name  \\\n",
       "0                                            BUCKEYE  Carbon monoxide   \n",
       "1                                          Shadyside  Carbon monoxide   \n",
       "2  Yellowstone National Park - Old Faithful Snow ...  Carbon monoxide   \n",
       "3                             North East Waste (NEW)  Carbon monoxide   \n",
       "4                                          CARPENTER  Carbon monoxide   \n",
       "\n",
       "    units_of_measure  arithmetic_mean  aqi  \n",
       "0  Parts per million         0.473684    7  \n",
       "1  Parts per million         0.263158    5  \n",
       "2  Parts per million         0.111111    2  \n",
       "3  Parts per million         0.300000    3  \n",
       "4  Parts per million         0.215789    3  "
      ]
     },
     "execution_count": 91,
     "metadata": {},
     "output_type": "execute_result"
    }
   ],
   "source": [
    "df.head()"
   ]
  },
  {
   "cell_type": "code",
   "execution_count": 92,
   "id": "8f9fcc7d",
   "metadata": {},
   "outputs": [
    {
     "data": {
      "text/plain": [
       "(260, 10)"
      ]
     },
     "execution_count": 92,
     "metadata": {},
     "output_type": "execute_result"
    }
   ],
   "source": [
    "df.shape"
   ]
  },
  {
   "cell_type": "markdown",
   "id": "71435056",
   "metadata": {},
   "source": [
    "Sampling is taking a part of the entire population and aassuming that the insights from that sample will apply to the entire population.\n",
    "\n",
    "This can be checked using Central limit theory which states that the sample distribtion mean and sample distribution propotion are similar to the population mean and propotion.\n",
    "\n",
    "As the sample size(number of samples increases),the sample distribution mean and propotion become close to population mean and propotion.\n",
    "\n",
    "As the sample distribution mean become closer to the population mean it takes the shape of normal distribution,same applies to sample distribution of propotion.\n",
    "\n",
    "All of this is possible if the data sample is not biased.\n",
    "\n",
    "The difference between the population mean and sample distribution mean can be obtained by the formula STD/sqrt(n) n is sample size Standard error of mean.\n",
    "\n",
    "// Standard error of propotion is sqrt(p(1-p)/n) where p is (the percentage) propotion value we get\n",
    "\n",
    "The standard error becomes lower when Sample mean becomes closer to population mean"
   ]
  },
  {
   "cell_type": "code",
   "execution_count": 93,
   "id": "ebec5bbe",
   "metadata": {},
   "outputs": [
    {
     "data": {
      "text/plain": [
       "6.757692307692308"
      ]
     },
     "execution_count": 93,
     "metadata": {},
     "output_type": "execute_result"
    }
   ],
   "source": [
    "df['aqi'].mean()"
   ]
  },
  {
   "cell_type": "code",
   "execution_count": 94,
   "id": "bd93ff6a",
   "metadata": {},
   "outputs": [],
   "source": [
    "from scipy import stats"
   ]
  },
  {
   "cell_type": "code",
   "execution_count": 95,
   "id": "7dd6a040",
   "metadata": {},
   "outputs": [],
   "source": [
    "sample1=df.sample(n=50,replace=False,random_state=4006)"
   ]
  },
  {
   "cell_type": "markdown",
   "id": "1f785023",
   "metadata": {},
   "source": [
    "n is number of records we want in our sample\n",
    "replace is if you want the row to be put back after it has beeb selected or you want to select it and not place it back.Non repetetion is better to avoid row dupliction"
   ]
  },
  {
   "cell_type": "code",
   "execution_count": 96,
   "id": "2945af40",
   "metadata": {},
   "outputs": [
    {
     "data": {
      "text/plain": [
       "7.14"
      ]
     },
     "execution_count": 96,
     "metadata": {},
     "output_type": "execute_result"
    }
   ],
   "source": [
    "sample1['aqi'].mean()"
   ]
  },
  {
   "cell_type": "code",
   "execution_count": 97,
   "id": "8bb85a50",
   "metadata": {},
   "outputs": [],
   "source": [
    "sample2=df.sample(n=50,replace=False,random_state=500056)"
   ]
  },
  {
   "cell_type": "code",
   "execution_count": 98,
   "id": "6e4b78f6",
   "metadata": {},
   "outputs": [
    {
     "data": {
      "text/plain": [
       "5.92"
      ]
     },
     "execution_count": 98,
     "metadata": {},
     "output_type": "execute_result"
    }
   ],
   "source": [
    "sample2['aqi'].mean()"
   ]
  },
  {
   "cell_type": "code",
   "execution_count": 99,
   "id": "97ed105f",
   "metadata": {},
   "outputs": [],
   "source": [
    "sample3=df.sample(n=50,replace=False,random_state=50)"
   ]
  },
  {
   "cell_type": "code",
   "execution_count": 100,
   "id": "7c9ab4f4",
   "metadata": {},
   "outputs": [
    {
     "data": {
      "text/plain": [
       "6.3"
      ]
     },
     "execution_count": 100,
     "metadata": {},
     "output_type": "execute_result"
    }
   ],
   "source": [
    "sample3['aqi'].mean()"
   ]
  },
  {
   "cell_type": "code",
   "execution_count": 101,
   "id": "9869d459",
   "metadata": {},
   "outputs": [],
   "source": [
    "sample10000=[]\n",
    "for i in range(10000):\n",
    "    sample10000.append(df.aqi.sample(n=50,replace=False).mean())\n",
    "sample10000=pd.DataFrame(data={'samples_means':sample10000})"
   ]
  },
  {
   "cell_type": "code",
   "execution_count": 102,
   "id": "7a1c26d1",
   "metadata": {},
   "outputs": [
    {
     "data": {
      "text/html": [
       "<div>\n",
       "<style scoped>\n",
       "    .dataframe tbody tr th:only-of-type {\n",
       "        vertical-align: middle;\n",
       "    }\n",
       "\n",
       "    .dataframe tbody tr th {\n",
       "        vertical-align: top;\n",
       "    }\n",
       "\n",
       "    .dataframe thead th {\n",
       "        text-align: right;\n",
       "    }\n",
       "</style>\n",
       "<table border=\"1\" class=\"dataframe\">\n",
       "  <thead>\n",
       "    <tr style=\"text-align: right;\">\n",
       "      <th></th>\n",
       "      <th>samples_means</th>\n",
       "    </tr>\n",
       "  </thead>\n",
       "  <tbody>\n",
       "    <tr>\n",
       "      <th>0</th>\n",
       "      <td>6.88</td>\n",
       "    </tr>\n",
       "    <tr>\n",
       "      <th>1</th>\n",
       "      <td>6.64</td>\n",
       "    </tr>\n",
       "    <tr>\n",
       "      <th>2</th>\n",
       "      <td>7.48</td>\n",
       "    </tr>\n",
       "    <tr>\n",
       "      <th>3</th>\n",
       "      <td>7.12</td>\n",
       "    </tr>\n",
       "    <tr>\n",
       "      <th>4</th>\n",
       "      <td>7.08</td>\n",
       "    </tr>\n",
       "    <tr>\n",
       "      <th>...</th>\n",
       "      <td>...</td>\n",
       "    </tr>\n",
       "    <tr>\n",
       "      <th>9995</th>\n",
       "      <td>9.36</td>\n",
       "    </tr>\n",
       "    <tr>\n",
       "      <th>9996</th>\n",
       "      <td>6.14</td>\n",
       "    </tr>\n",
       "    <tr>\n",
       "      <th>9997</th>\n",
       "      <td>7.84</td>\n",
       "    </tr>\n",
       "    <tr>\n",
       "      <th>9998</th>\n",
       "      <td>5.10</td>\n",
       "    </tr>\n",
       "    <tr>\n",
       "      <th>9999</th>\n",
       "      <td>9.44</td>\n",
       "    </tr>\n",
       "  </tbody>\n",
       "</table>\n",
       "<p>10000 rows × 1 columns</p>\n",
       "</div>"
      ],
      "text/plain": [
       "      samples_means\n",
       "0              6.88\n",
       "1              6.64\n",
       "2              7.48\n",
       "3              7.12\n",
       "4              7.08\n",
       "...             ...\n",
       "9995           9.36\n",
       "9996           6.14\n",
       "9997           7.84\n",
       "9998           5.10\n",
       "9999           9.44\n",
       "\n",
       "[10000 rows x 1 columns]"
      ]
     },
     "execution_count": 102,
     "metadata": {},
     "output_type": "execute_result"
    }
   ],
   "source": [
    "sample10000\n"
   ]
  },
  {
   "cell_type": "code",
   "execution_count": 103,
   "id": "2a13ccdf",
   "metadata": {},
   "outputs": [
    {
     "data": {
      "text/plain": [
       "6.749008000000024"
      ]
     },
     "execution_count": 103,
     "metadata": {},
     "output_type": "execute_result"
    }
   ],
   "source": [
    "sample10000.samples_means.mean()"
   ]
  },
  {
   "cell_type": "markdown",
   "id": "9684808b",
   "metadata": {},
   "source": [
    "Initally when we took 3 different samples of 50 the mean values were close to population values in first two cases and very close in third sample."
   ]
  },
  {
   "cell_type": "markdown",
   "id": "d2659f16",
   "metadata": {},
   "source": [
    "When we created 10000 random 50 different samples,we found the mean of 10000 samples means is very close to population mean of original dataset.Central limit theorm applies"
   ]
  },
  {
   "cell_type": "code",
   "execution_count": 104,
   "id": "f6b34f8d",
   "metadata": {},
   "outputs": [
    {
     "data": {
      "text/plain": [
       "array([[<AxesSubplot:title={'center':'samples_means'}>]], dtype=object)"
      ]
     },
     "execution_count": 104,
     "metadata": {},
     "output_type": "execute_result"
    },
    {
     "data": {
      "image/png": "[encoded data removed]",
      "text/plain": [
       "<Figure size 432x288 with 1 Axes>"
      ]
     },
     "metadata": {
      "needs_background": "light"
     },
     "output_type": "display_data"
    }
   ],
   "source": [
    "sample10000.hist()"
   ]
  },
  {
   "cell_type": "markdown",
   "id": "9a6b0501",
   "metadata": {},
   "source": [
    "It has normal distribution too for 10000 samples"
   ]
  },
  {
   "cell_type": "code",
   "execution_count": 105,
   "id": "77702e35",
   "metadata": {},
   "outputs": [],
   "source": [
    "import numpy as np"
   ]
  },
  {
   "cell_type": "code",
   "execution_count": 106,
   "id": "3e0f1711",
   "metadata": {},
   "outputs": [
    {
     "data": {
      "text/plain": [
       "samples_means    0.008988\n",
       "dtype: float64"
      ]
     },
     "execution_count": 106,
     "metadata": {},
     "output_type": "execute_result"
    }
   ],
   "source": [
    "standard_error_mean=sample10000.std()/np.sqrt(len(sample10000))\n",
    "standard_error_mean"
   ]
  },
  {
   "cell_type": "markdown",
   "id": "59ddc2ac",
   "metadata": {},
   "source": [
    "the standard mean error is low which shows slight variation between population and sample mean which is good"
   ]
  },
  {
   "cell_type": "markdown",
   "id": "2f770d98",
   "metadata": {},
   "source": [
    "The mean AQI in a sample of 50 observations was below 100 in a statistically significant sense . For reference, AQI values at or below 100 are generally thought of as satisfactory."
   ]
  },
  {
   "cell_type": "code",
   "execution_count": null,
   "id": "0dd8313b",
   "metadata": {},
   "outputs": [],
   "source": []
  }
 ],
 "metadata": {
  "kernelspec": {
   "display_name": "Python 3 (ipykernel)",
   "language": "python",
   "name": "python3"
  },
  "language_info": {
   "codemirror_mode": {
    "name": "ipython",
    "version": 3
   },
   "file_extension": ".py",
   "mimetype": "text/x-python",
   "name": "python",
   "nbconvert_exporter": "python",
   "pygments_lexer": "ipython3",
   "version": "3.9.7"
  }
 },
 "nbformat": 4,
 "nbformat_minor": 5
}
