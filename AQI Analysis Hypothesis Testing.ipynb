{
 "cells": [
  {
   "cell_type": "code",
   "execution_count": null,
   "id": "e8e80446",
   "metadata": {},
   "outputs": [],
   "source": [
    "\n",
    "You work for an environmental think tank called Repair Our Air (ROA). ROA is formulating policy recommendations to improve the air quality in America, using the Environmental Protection Agency's Air Quality Index (AQI) to guide their decision making. An AQI value close to 0 signals \"little to no\" public health concern, while higher values are associated with increased risk to public health.\n",
    "\n",
    "They've tasked you with leveraging AQI data to help them prioritize their strategy for improving air quality in America.\n",
    "\n",
    "ROA is considering the following decisions. For each, construct a hypothesis test and an accompanying visualization, using your results of that test to make a recommendation:\n",
    "\n",
    "ROA is considering a metropolitan-focused approach. Within California, they want to know if the mean AQI in Los Angeles County is statistically different from the rest of California.\n",
    "With limited resources, ROA has to choose between New York and Ohio for their next regional office. Does New York have a lower AQI than Ohio?\n",
    "A new policy will affect those states with a mean AQI of 10 or greater. Would Michigan be affected by this new policy?\n",
    "Notes:\n",
    "\n",
    "For your analysis, you'll default to a 5% level of significance."
   ]
  },
  {
   "cell_type": "code",
   "execution_count": 1,
   "id": "660f3496",
   "metadata": {},
   "outputs": [],
   "source": [
    "import pandas as pd\n",
    "from scipy import stats"
   ]
  },
  {
   "cell_type": "code",
   "execution_count": 2,
   "id": "3ee0f681",
   "metadata": {},
   "outputs": [],
   "source": [
    "df=df=pd.read_csv('c4_epa_air_quality.csv')"
   ]
  },
  {
   "cell_type": "markdown",
   "id": "fb093786",
   "metadata": {},
   "source": [
    "This is an air quality index dataset Source-Google Advanced Data Analytics Certification Modified Dataset"
   ]
  },
  {
   "cell_type": "code",
   "execution_count": 5,
   "id": "1e094ee4",
   "metadata": {},
   "outputs": [
    {
     "data": {
      "text/html": [
       "<div>\n",
       "<style scoped>\n",
       "    .dataframe tbody tr th:only-of-type {\n",
       "        vertical-align: middle;\n",
       "    }\n",
       "\n",
       "    .dataframe tbody tr th {\n",
       "        vertical-align: top;\n",
       "    }\n",
       "\n",
       "    .dataframe thead th {\n",
       "        text-align: right;\n",
       "    }\n",
       "</style>\n",
       "<table border=\"1\" class=\"dataframe\">\n",
       "  <thead>\n",
       "    <tr style=\"text-align: right;\">\n",
       "      <th></th>\n",
       "      <th>Unnamed: 0</th>\n",
       "      <th>date_local</th>\n",
       "      <th>state_name</th>\n",
       "      <th>county_name</th>\n",
       "      <th>city_name</th>\n",
       "      <th>local_site_name</th>\n",
       "      <th>parameter_name</th>\n",
       "      <th>units_of_measure</th>\n",
       "      <th>arithmetic_mean</th>\n",
       "      <th>aqi</th>\n",
       "    </tr>\n",
       "  </thead>\n",
       "  <tbody>\n",
       "    <tr>\n",
       "      <th>0</th>\n",
       "      <td>0</td>\n",
       "      <td>2018-01-01</td>\n",
       "      <td>Arizona</td>\n",
       "      <td>Maricopa</td>\n",
       "      <td>Buckeye</td>\n",
       "      <td>BUCKEYE</td>\n",
       "      <td>Carbon monoxide</td>\n",
       "      <td>Parts per million</td>\n",
       "      <td>0.473684</td>\n",
       "      <td>7</td>\n",
       "    </tr>\n",
       "    <tr>\n",
       "      <th>1</th>\n",
       "      <td>1</td>\n",
       "      <td>2018-01-01</td>\n",
       "      <td>Ohio</td>\n",
       "      <td>Belmont</td>\n",
       "      <td>Shadyside</td>\n",
       "      <td>Shadyside</td>\n",
       "      <td>Carbon monoxide</td>\n",
       "      <td>Parts per million</td>\n",
       "      <td>0.263158</td>\n",
       "      <td>5</td>\n",
       "    </tr>\n",
       "    <tr>\n",
       "      <th>2</th>\n",
       "      <td>2</td>\n",
       "      <td>2018-01-01</td>\n",
       "      <td>Wyoming</td>\n",
       "      <td>Teton</td>\n",
       "      <td>Not in a city</td>\n",
       "      <td>Yellowstone National Park - Old Faithful Snow ...</td>\n",
       "      <td>Carbon monoxide</td>\n",
       "      <td>Parts per million</td>\n",
       "      <td>0.111111</td>\n",
       "      <td>2</td>\n",
       "    </tr>\n",
       "    <tr>\n",
       "      <th>3</th>\n",
       "      <td>3</td>\n",
       "      <td>2018-01-01</td>\n",
       "      <td>Pennsylvania</td>\n",
       "      <td>Philadelphia</td>\n",
       "      <td>Philadelphia</td>\n",
       "      <td>North East Waste (NEW)</td>\n",
       "      <td>Carbon monoxide</td>\n",
       "      <td>Parts per million</td>\n",
       "      <td>0.300000</td>\n",
       "      <td>3</td>\n",
       "    </tr>\n",
       "    <tr>\n",
       "      <th>4</th>\n",
       "      <td>4</td>\n",
       "      <td>2018-01-01</td>\n",
       "      <td>Iowa</td>\n",
       "      <td>Polk</td>\n",
       "      <td>Des Moines</td>\n",
       "      <td>CARPENTER</td>\n",
       "      <td>Carbon monoxide</td>\n",
       "      <td>Parts per million</td>\n",
       "      <td>0.215789</td>\n",
       "      <td>3</td>\n",
       "    </tr>\n",
       "  </tbody>\n",
       "</table>\n",
       "</div>"
      ],
      "text/plain": [
       "   Unnamed: 0  date_local    state_name   county_name      city_name  \\\n",
       "0           0  2018-01-01       Arizona      Maricopa        Buckeye   \n",
       "1           1  2018-01-01          Ohio       Belmont      Shadyside   \n",
       "2           2  2018-01-01       Wyoming         Teton  Not in a city   \n",
       "3           3  2018-01-01  Pennsylvania  Philadelphia   Philadelphia   \n",
       "4           4  2018-01-01          Iowa          Polk     Des Moines   \n",
       "\n",
       "                                     local_site_name   parameter_name  \\\n",
       "0                                            BUCKEYE  Carbon monoxide   \n",
       "1                                          Shadyside  Carbon monoxide   \n",
       "2  Yellowstone National Park - Old Faithful Snow ...  Carbon monoxide   \n",
       "3                             North East Waste (NEW)  Carbon monoxide   \n",
       "4                                          CARPENTER  Carbon monoxide   \n",
       "\n",
       "    units_of_measure  arithmetic_mean  aqi  \n",
       "0  Parts per million         0.473684    7  \n",
       "1  Parts per million         0.263158    5  \n",
       "2  Parts per million         0.111111    2  \n",
       "3  Parts per million         0.300000    3  \n",
       "4  Parts per million         0.215789    3  "
      ]
     },
     "execution_count": 5,
     "metadata": {},
     "output_type": "execute_result"
    }
   ],
   "source": [
    "df.head()"
   ]
  },
  {
   "cell_type": "markdown",
   "id": "2f2b5998",
   "metadata": {},
   "source": [
    "ROA is considering a metropolitan-focused approach. Within California, they want to know if the mean AQI in Los Angeles County is statistically different from the rest of California.\n"
   ]
  },
  {
   "cell_type": "markdown",
   "id": "8475064e",
   "metadata": {},
   "source": [
    "Comparing sample means of 2 independent samples we use two sample t test"
   ]
  },
  {
   "cell_type": "code",
   "execution_count": 21,
   "id": "f6d23af5",
   "metadata": {},
   "outputs": [],
   "source": [
    "Los_Angeles_County_AQI=df[df.county_name=='Los Angeles'].aqi"
   ]
  },
  {
   "cell_type": "code",
   "execution_count": 22,
   "id": "1f768877",
   "metadata": {},
   "outputs": [],
   "source": [
    "Rest_of_California_AQI=df[(df.state_name=='California') & (df.county_name!='Los Angeles')].aqi"
   ]
  },
  {
   "cell_type": "code",
   "execution_count": 24,
   "id": "43e3c8e5",
   "metadata": {},
   "outputs": [],
   "source": [
    "comparing_aqi=stats.ttest_ind(a=Los_Angeles_County_AQI,b=Rest_of_California_AQI,equal_var=False)"
   ]
  },
  {
   "cell_type": "code",
   "execution_count": 25,
   "id": "8c9de1e7",
   "metadata": {},
   "outputs": [
    {
     "data": {
      "text/plain": [
       "Ttest_indResult(statistic=2.1107010796372014, pvalue=0.049839056842410995)"
      ]
     },
     "execution_count": 25,
     "metadata": {},
     "output_type": "execute_result"
    }
   ],
   "source": [
    "comparing_aqi"
   ]
  },
  {
   "cell_type": "markdown",
   "id": "e39b7d1e",
   "metadata": {},
   "source": [
    "Null Hypothesis=Within California,mean AQI in Los Angeles County is not statistically different from the rest of California.\n",
    "\n",
    "Alternate Hypothesis=Within California, the mean AQI in Los Angeles County is statistically different from the rest of California.\n",
    "\n",
    "0.049 or 4.9% is less than 5% so null hypothesis is rejected"
   ]
  },
  {
   "cell_type": "markdown",
   "id": "730cd2fe",
   "metadata": {},
   "source": [
    "With limited resources, ROA has to choose between New York and Ohio for their next regional office. Does New York have a lower AQI than Ohio?\n"
   ]
  },
  {
   "cell_type": "markdown",
   "id": "cec9ca6f",
   "metadata": {},
   "source": [
    "Camparing sample means of two independent samples in one direction using two sample t test"
   ]
  },
  {
   "cell_type": "code",
   "execution_count": 30,
   "id": "e70333a2",
   "metadata": {},
   "outputs": [],
   "source": [
    "Ny_Oh_aqi=stats.ttest_ind(a=df[df.state_name=='New York'].aqi,b=df[df.state_name=='Ohio'].aqi,alternative='less',equal_var=False)"
   ]
  },
  {
   "cell_type": "code",
   "execution_count": 31,
   "id": "45a72217",
   "metadata": {},
   "outputs": [
    {
     "data": {
      "text/plain": [
       "Ttest_indResult(statistic=-2.025951038880333, pvalue=0.030446502691934697)"
      ]
     },
     "execution_count": 31,
     "metadata": {},
     "output_type": "execute_result"
    }
   ],
   "source": [
    "Ny_Oh_aqi"
   ]
  },
  {
   "cell_type": "markdown",
   "id": "015547b0",
   "metadata": {},
   "source": [
    "Null Hypothesis:New York and Ohion have same AQI\n",
    "Alternate Hypothesis:New York has lower AQI than Ohio\n",
    "0.030 or 3% is less than significance level of 5% so null hypothesis rejected\n",
    "The regional office can be setup in  New York "
   ]
  },
  {
   "cell_type": "markdown",
   "id": "2f21e44d",
   "metadata": {},
   "source": [
    "A new policy will affect those states with a mean AQI of 10 or greater. Will Michigan be affected by this new policy?¶"
   ]
  },
  {
   "cell_type": "markdown",
   "id": "4e9fb7dd",
   "metadata": {},
   "source": [
    "Here we are comparing a mean sample with a relative value in one direction so we use one sample t test"
   ]
  },
  {
   "cell_type": "code",
   "execution_count": 37,
   "id": "2fb73a22",
   "metadata": {},
   "outputs": [],
   "source": [
    "Mic_aqi=stats.ttest_1samp(df[df.state_name=='Michigan'].aqi,10,alternative='greater')"
   ]
  },
  {
   "cell_type": "code",
   "execution_count": 38,
   "id": "55b5cd3e",
   "metadata": {},
   "outputs": [
    {
     "data": {
      "text/plain": [
       "Ttest_1sampResult(statistic=-1.7395913343286131, pvalue=0.9399405193140109)"
      ]
     },
     "execution_count": 38,
     "metadata": {},
     "output_type": "execute_result"
    }
   ],
   "source": [
    "Mic_aqi"
   ]
  },
  {
   "cell_type": "markdown",
   "id": "2344d382",
   "metadata": {},
   "source": [
    "With a p-value (0.940) being greater than 0.05 (as your significance level is 5%)  fail to reject the null hypothesis.\n",
    "\n",
    "Therefore, you cannot conclude at the 5% significance level that Michigan's mean AQI is greater than 10. This implies that Michigan would most likely not be affected by the new policy."
   ]
  },
  {
   "cell_type": "code",
   "execution_count": null,
   "id": "776d3456",
   "metadata": {},
   "outputs": [],
   "source": []
  }
 ],
 "metadata": {
  "kernelspec": {
   "display_name": "Python 3 (ipykernel)",
   "language": "python",
   "name": "python3"
  },
  "language_info": {
   "codemirror_mode": {
    "name": "ipython",
    "version": 3
   },
   "file_extension": ".py",
   "mimetype": "text/x-python",
   "name": "python",
   "nbconvert_exporter": "python",
   "pygments_lexer": "ipython3",
   "version": "3.9.7"
  }
 },
 "nbformat": 4,
 "nbformat_minor": 5
}
