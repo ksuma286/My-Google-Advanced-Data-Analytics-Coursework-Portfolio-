{
 "cells": [
  {
   "cell_type": "code",
   "execution_count": 15,
   "id": "b750c91b",
   "metadata": {},
   "outputs": [],
   "source": [
    "import pandas as pd\n",
    "import numpy as np\n",
    "from scipy import stats"
   ]
  },
  {
   "cell_type": "code",
   "execution_count": 3,
   "id": "31336b62",
   "metadata": {},
   "outputs": [],
   "source": [
    "df=pd.read_csv('c4_epa_air_quality.csv')"
   ]
  },
  {
   "cell_type": "markdown",
   "id": "218476e4",
   "metadata": {},
   "source": [
    "This is an air quality index dataset Source-Google Advanced Data Analytics Certification Modified Dataset"
   ]
  },
  {
   "cell_type": "code",
   "execution_count": 4,
   "id": "a0d076e4",
   "metadata": {},
   "outputs": [
    {
     "data": {
      "text/html": [
       "<div>\n",
       "<style scoped>\n",
       "    .dataframe tbody tr th:only-of-type {\n",
       "        vertical-align: middle;\n",
       "    }\n",
       "\n",
       "    .dataframe tbody tr th {\n",
       "        vertical-align: top;\n",
       "    }\n",
       "\n",
       "    .dataframe thead th {\n",
       "        text-align: right;\n",
       "    }\n",
       "</style>\n",
       "<table border=\"1\" class=\"dataframe\">\n",
       "  <thead>\n",
       "    <tr style=\"text-align: right;\">\n",
       "      <th></th>\n",
       "      <th>Unnamed: 0</th>\n",
       "      <th>date_local</th>\n",
       "      <th>state_name</th>\n",
       "      <th>county_name</th>\n",
       "      <th>city_name</th>\n",
       "      <th>local_site_name</th>\n",
       "      <th>parameter_name</th>\n",
       "      <th>units_of_measure</th>\n",
       "      <th>arithmetic_mean</th>\n",
       "      <th>aqi</th>\n",
       "    </tr>\n",
       "  </thead>\n",
       "  <tbody>\n",
       "    <tr>\n",
       "      <th>0</th>\n",
       "      <td>0</td>\n",
       "      <td>2018-01-01</td>\n",
       "      <td>Arizona</td>\n",
       "      <td>Maricopa</td>\n",
       "      <td>Buckeye</td>\n",
       "      <td>BUCKEYE</td>\n",
       "      <td>Carbon monoxide</td>\n",
       "      <td>Parts per million</td>\n",
       "      <td>0.473684</td>\n",
       "      <td>7</td>\n",
       "    </tr>\n",
       "    <tr>\n",
       "      <th>1</th>\n",
       "      <td>1</td>\n",
       "      <td>2018-01-01</td>\n",
       "      <td>Ohio</td>\n",
       "      <td>Belmont</td>\n",
       "      <td>Shadyside</td>\n",
       "      <td>Shadyside</td>\n",
       "      <td>Carbon monoxide</td>\n",
       "      <td>Parts per million</td>\n",
       "      <td>0.263158</td>\n",
       "      <td>5</td>\n",
       "    </tr>\n",
       "    <tr>\n",
       "      <th>2</th>\n",
       "      <td>2</td>\n",
       "      <td>2018-01-01</td>\n",
       "      <td>Wyoming</td>\n",
       "      <td>Teton</td>\n",
       "      <td>Not in a city</td>\n",
       "      <td>Yellowstone National Park - Old Faithful Snow ...</td>\n",
       "      <td>Carbon monoxide</td>\n",
       "      <td>Parts per million</td>\n",
       "      <td>0.111111</td>\n",
       "      <td>2</td>\n",
       "    </tr>\n",
       "    <tr>\n",
       "      <th>3</th>\n",
       "      <td>3</td>\n",
       "      <td>2018-01-01</td>\n",
       "      <td>Pennsylvania</td>\n",
       "      <td>Philadelphia</td>\n",
       "      <td>Philadelphia</td>\n",
       "      <td>North East Waste (NEW)</td>\n",
       "      <td>Carbon monoxide</td>\n",
       "      <td>Parts per million</td>\n",
       "      <td>0.300000</td>\n",
       "      <td>3</td>\n",
       "    </tr>\n",
       "    <tr>\n",
       "      <th>4</th>\n",
       "      <td>4</td>\n",
       "      <td>2018-01-01</td>\n",
       "      <td>Iowa</td>\n",
       "      <td>Polk</td>\n",
       "      <td>Des Moines</td>\n",
       "      <td>CARPENTER</td>\n",
       "      <td>Carbon monoxide</td>\n",
       "      <td>Parts per million</td>\n",
       "      <td>0.215789</td>\n",
       "      <td>3</td>\n",
       "    </tr>\n",
       "  </tbody>\n",
       "</table>\n",
       "</div>"
      ],
      "text/plain": [
       "   Unnamed: 0  date_local    state_name   county_name      city_name  \\\n",
       "0           0  2018-01-01       Arizona      Maricopa        Buckeye   \n",
       "1           1  2018-01-01          Ohio       Belmont      Shadyside   \n",
       "2           2  2018-01-01       Wyoming         Teton  Not in a city   \n",
       "3           3  2018-01-01  Pennsylvania  Philadelphia   Philadelphia   \n",
       "4           4  2018-01-01          Iowa          Polk     Des Moines   \n",
       "\n",
       "                                     local_site_name   parameter_name  \\\n",
       "0                                            BUCKEYE  Carbon monoxide   \n",
       "1                                          Shadyside  Carbon monoxide   \n",
       "2  Yellowstone National Park - Old Faithful Snow ...  Carbon monoxide   \n",
       "3                             North East Waste (NEW)  Carbon monoxide   \n",
       "4                                          CARPENTER  Carbon monoxide   \n",
       "\n",
       "    units_of_measure  arithmetic_mean  aqi  \n",
       "0  Parts per million         0.473684    7  \n",
       "1  Parts per million         0.263158    5  \n",
       "2  Parts per million         0.111111    2  \n",
       "3  Parts per million         0.300000    3  \n",
       "4  Parts per million         0.215789    3  "
      ]
     },
     "execution_count": 4,
     "metadata": {},
     "output_type": "execute_result"
    }
   ],
   "source": [
    "df.head()"
   ]
  },
  {
   "cell_type": "code",
   "execution_count": 5,
   "id": "984ca7c0",
   "metadata": {},
   "outputs": [],
   "source": [
    "sample_data=df.sample(n=50,replace=False)"
   ]
  },
  {
   "cell_type": "code",
   "execution_count": 7,
   "id": "f841ce98",
   "metadata": {},
   "outputs": [
    {
     "data": {
      "text/html": [
       "<div>\n",
       "<style scoped>\n",
       "    .dataframe tbody tr th:only-of-type {\n",
       "        vertical-align: middle;\n",
       "    }\n",
       "\n",
       "    .dataframe tbody tr th {\n",
       "        vertical-align: top;\n",
       "    }\n",
       "\n",
       "    .dataframe thead th {\n",
       "        text-align: right;\n",
       "    }\n",
       "</style>\n",
       "<table border=\"1\" class=\"dataframe\">\n",
       "  <thead>\n",
       "    <tr style=\"text-align: right;\">\n",
       "      <th></th>\n",
       "      <th>Unnamed: 0</th>\n",
       "      <th>date_local</th>\n",
       "      <th>state_name</th>\n",
       "      <th>county_name</th>\n",
       "      <th>city_name</th>\n",
       "      <th>local_site_name</th>\n",
       "      <th>parameter_name</th>\n",
       "      <th>units_of_measure</th>\n",
       "      <th>arithmetic_mean</th>\n",
       "      <th>aqi</th>\n",
       "    </tr>\n",
       "  </thead>\n",
       "  <tbody>\n",
       "    <tr>\n",
       "      <th>258</th>\n",
       "      <td>258</td>\n",
       "      <td>2018-01-01</td>\n",
       "      <td>Nebraska</td>\n",
       "      <td>Douglas</td>\n",
       "      <td>Omaha</td>\n",
       "      <td>NaN</td>\n",
       "      <td>Carbon monoxide</td>\n",
       "      <td>Parts per million</td>\n",
       "      <td>0.421053</td>\n",
       "      <td>9</td>\n",
       "    </tr>\n",
       "    <tr>\n",
       "      <th>78</th>\n",
       "      <td>78</td>\n",
       "      <td>2018-01-01</td>\n",
       "      <td>Maryland</td>\n",
       "      <td>Garrett</td>\n",
       "      <td>Grantsville</td>\n",
       "      <td>Piney Run</td>\n",
       "      <td>Carbon monoxide</td>\n",
       "      <td>Parts per million</td>\n",
       "      <td>0.200000</td>\n",
       "      <td>2</td>\n",
       "    </tr>\n",
       "    <tr>\n",
       "      <th>5</th>\n",
       "      <td>5</td>\n",
       "      <td>2018-01-01</td>\n",
       "      <td>Hawaii</td>\n",
       "      <td>Honolulu</td>\n",
       "      <td>Not in a city</td>\n",
       "      <td>Kapolei</td>\n",
       "      <td>Carbon monoxide</td>\n",
       "      <td>Parts per million</td>\n",
       "      <td>0.994737</td>\n",
       "      <td>14</td>\n",
       "    </tr>\n",
       "    <tr>\n",
       "      <th>26</th>\n",
       "      <td>26</td>\n",
       "      <td>2018-01-01</td>\n",
       "      <td>California</td>\n",
       "      <td>Orange</td>\n",
       "      <td>La Habra</td>\n",
       "      <td>La Habra</td>\n",
       "      <td>Carbon monoxide</td>\n",
       "      <td>Parts per million</td>\n",
       "      <td>0.673684</td>\n",
       "      <td>13</td>\n",
       "    </tr>\n",
       "    <tr>\n",
       "      <th>215</th>\n",
       "      <td>215</td>\n",
       "      <td>2018-01-01</td>\n",
       "      <td>Ohio</td>\n",
       "      <td>Cuyahoga</td>\n",
       "      <td>Warrensville Heights</td>\n",
       "      <td>Cleveland Near Road</td>\n",
       "      <td>Carbon monoxide</td>\n",
       "      <td>Parts per million</td>\n",
       "      <td>0.321053</td>\n",
       "      <td>5</td>\n",
       "    </tr>\n",
       "  </tbody>\n",
       "</table>\n",
       "</div>"
      ],
      "text/plain": [
       "     Unnamed: 0  date_local  state_name county_name             city_name  \\\n",
       "258         258  2018-01-01    Nebraska     Douglas                 Omaha   \n",
       "78           78  2018-01-01    Maryland     Garrett           Grantsville   \n",
       "5             5  2018-01-01      Hawaii    Honolulu         Not in a city   \n",
       "26           26  2018-01-01  California      Orange              La Habra   \n",
       "215         215  2018-01-01        Ohio    Cuyahoga  Warrensville Heights   \n",
       "\n",
       "         local_site_name   parameter_name   units_of_measure  arithmetic_mean  \\\n",
       "258                  NaN  Carbon monoxide  Parts per million         0.421053   \n",
       "78             Piney Run  Carbon monoxide  Parts per million         0.200000   \n",
       "5                Kapolei  Carbon monoxide  Parts per million         0.994737   \n",
       "26              La Habra  Carbon monoxide  Parts per million         0.673684   \n",
       "215  Cleveland Near Road  Carbon monoxide  Parts per million         0.321053   \n",
       "\n",
       "     aqi  \n",
       "258    9  \n",
       "78     2  \n",
       "5     14  \n",
       "26    13  \n",
       "215    5  "
      ]
     },
     "execution_count": 7,
     "metadata": {},
     "output_type": "execute_result"
    }
   ],
   "source": [
    "sample_data.head()"
   ]
  },
  {
   "cell_type": "code",
   "execution_count": 13,
   "id": "7cd68f08",
   "metadata": {},
   "outputs": [
    {
     "data": {
      "text/plain": [
       "6.16"
      ]
     },
     "execution_count": 13,
     "metadata": {},
     "output_type": "execute_result"
    }
   ],
   "source": [
    "mean=sample_data.aqi.mean()\n",
    "mean"
   ]
  },
  {
   "cell_type": "markdown",
   "id": "5eca1365",
   "metadata": {},
   "source": [
    "How succusful is the evaluation can be told to the stakeholder in form of confidence intervals which accounts for uncertanity due to margin of error among others"
   ]
  },
  {
   "cell_type": "markdown",
   "id": "e838d81c",
   "metadata": {},
   "source": [
    "confidencr levels and their respective z scores used for calculation\n",
    "\n",
    "  Confidence Level   Z score\n",
    "  \n",
    "   90                              1.64 \n",
    "   \n",
    "   95                              1.96\n",
    "   \n",
    "   99                             2.57"
   ]
  },
  {
   "cell_type": "markdown",
   "id": "dc167b57",
   "metadata": {},
   "source": [
    "We have selected a confidence level of 95 for this analysis"
   ]
  },
  {
   "cell_type": "code",
   "execution_count": 10,
   "id": "062312c3",
   "metadata": {},
   "outputs": [],
   "source": [
    "standard_deviation=sample_data.aqi.std()"
   ]
  },
  {
   "cell_type": "code",
   "execution_count": 11,
   "id": "ad5e6831",
   "metadata": {},
   "outputs": [],
   "source": [
    "standard_error=standard_deviation/len(sample_data)"
   ]
  },
  {
   "cell_type": "code",
   "execution_count": 12,
   "id": "535b4194",
   "metadata": {},
   "outputs": [],
   "source": [
    "margin_of_error= 1.96*standard_error\n",
    "#margin of error= Zscore*standard_error"
   ]
  },
  {
   "cell_type": "code",
   "execution_count": 16,
   "id": "762cd9ba",
   "metadata": {},
   "outputs": [],
   "source": [
    "Confidence_Interval=stats.norm.interval(alpha=0.95,loc=mean,scale=margin_of_error)\n",
    "# alpha is leve of confidence\n",
    "#loc is sample mean\n",
    "#scale is margin of error\n",
    "#Confidence Interval[mean-margin_of_error,mean+margin_of_error]"
   ]
  },
  {
   "cell_type": "code",
   "execution_count": 17,
   "id": "8bca97a3",
   "metadata": {},
   "outputs": [
    {
     "data": {
      "text/plain": [
       "(5.7328284723052185, 6.587171527694782)"
      ]
     },
     "execution_count": 17,
     "metadata": {},
     "output_type": "execute_result"
    }
   ],
   "source": [
    "Confidence_Interval"
   ]
  },
  {
   "cell_type": "markdown",
   "id": "75b12a24",
   "metadata": {},
   "source": [
    "The AQI across the 600+ districts can be [5.7328284723052185, 6.587171527694782] with a confidence level of 95 and the values of AQI below 100 is considered to be satisfactory so government can do futher invetidation of the AQI and how to keep is consistent or make it better"
   ]
  },
  {
   "cell_type": "markdown",
   "id": "04d8adf5",
   "metadata": {},
   "source": [
    "for smaller datasets withs ample size below 30 we use t distribution"
   ]
  },
  {
   "cell_type": "code",
   "execution_count": null,
   "id": "0a0a4f24",
   "metadata": {},
   "outputs": [],
   "source": []
  }
 ],
 "metadata": {
  "kernelspec": {
   "display_name": "Python 3 (ipykernel)",
   "language": "python",
   "name": "python3"
  },
  "language_info": {
   "codemirror_mode": {
    "name": "ipython",
    "version": 3
   },
   "file_extension": ".py",
   "mimetype": "text/x-python",
   "name": "python",
   "nbconvert_exporter": "python",
   "pygments_lexer": "ipython3",
   "version": "3.9.7"
  }
 },
 "nbformat": 4,
 "nbformat_minor": 5
}
